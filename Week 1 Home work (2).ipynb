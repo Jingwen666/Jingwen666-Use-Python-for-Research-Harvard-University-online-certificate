{
 "cells": [
  {
   "cell_type": "code",
   "execution_count": 1,
   "metadata": {
    "collapsed": false
   },
   "outputs": [
    {
     "data": {
      "text/plain": [
       "0.7853981633974483"
      ]
     },
     "execution_count": 1,
     "metadata": {
     },
     "output_type": "execute_result"
    }
   ],
   "source": [
    "#Consider a circle inscribed in a square. The ratio of their areas (the ratio of the area of the circle to the area of the square) is pi/4. In this six-part exercise, we will find a way to approximate this value\n",
    "#Exercise 2 Part one: \n",
    "#Using the math library, calculate and print the value of 4/π\n",
    "import math\n",
    "math.pi/4"
   ]
  },
  {
   "cell_type": "code",
   "execution_count": 1,
   "metadata": {
    "collapsed": false
   },
   "outputs": [
    {
     "data": {
      "text/plain": [
       "-0.7312715117751976"
      ]
     },
     "execution_count": 1,
     "metadata": {
     },
     "output_type": "execute_result"
    }
   ],
   "source": [
    "#Exercise 2 Part two\n",
    "#Using random.uniform(), create a function rand() that generates a single float between -1−1 and 11.\n",
    "#Call rand() once.\n",
    "import random\n",
    "\n",
    "random.seed(1) # Fixes the see of the random number generator.\n",
    "\n",
    "def rand():\n",
    "   # define `rand` here!\n",
    "    return(random.uniform(-1,1))\n",
    "rand()\n"
   ]
  },
  {
   "cell_type": "code",
   "execution_count": 21,
   "metadata": {
    "collapsed": false
   },
   "outputs": [
    {
     "data": {
      "text/plain": [
       "1.4142135623730951"
      ]
     },
     "execution_count": 21,
     "metadata": {
     },
     "output_type": "execute_result"
    }
   ],
   "source": [
    "#Exercise 2 Part three\n",
    "#The distance between two points x and y is the square root of the sum of squared differences along each dimension of x and y. Write a functiondistance(x, y) that takes two vectors as its input and outputs the distance between them. Use your function to find the distance between x=(0,0) and y=(1,1)\n",
    "import math\n",
    "def distance (x,y):\n",
    "    return math.sqrt ((x[0]-y[0])**2 + (x[1] - y[1])**2)\n",
    "distance((0,0), (1,1))"
   ]
  },
  {
   "cell_type": "code",
   "execution_count": 22,
   "metadata": {
    "collapsed": false
   },
   "outputs": [
    {
     "data": {
      "text/plain": [
       "False"
      ]
     },
     "execution_count": 22,
     "metadata": {
     },
     "output_type": "execute_result"
    }
   ],
   "source": [
    "#Exercise 2 Part four\n",
    "\n",
    "#Write a function in_circle(x, origin) that determines whether a point in a two dimensional plane falls within a unit circle surrounding a given origin.\n",
    "#Your function should return a boolean True if the distance between x and origin is less than 1 and False otherwise.\n",
    "#Use distance(x, y) as defined in 2c.\n",
    "#Use your function to determine whether the point (1,1) lies within the unit circle centered at (0,0).\n",
    "def in_circle(x, origin=[0,0]):\n",
    "    if distance(x,y)<1:\n",
    "        return True\n",
    "    else:\n",
    "        return False\n",
    "in_circle((1,1),(0,0))"
   ]
  },
  {
   "cell_type": "code",
   "execution_count": 25,
   "metadata": {
    "collapsed": false
   },
   "outputs": [
    {
     "name": "stdout",
     "output_type": "stream",
     "text": [
      "0.7792\n"
     ]
    }
   ],
   "source": [
    "#Exercise 2 Part five\n",
    "#Create a list inside of R=10000 booleans that determines whether or not a point falls within the unit circle centered at (0,0). Set the seed to 1 using random.seed(1).\n",
    "\n",
    "#Use the rand function from Exercise 2b to generate R randomly located points.\n",
    "\n",
    "#Use the function in_circle to test whether or not a given pint falls within the unit circle.\n",
    "\n",
    "#Find the proportion of points that fall within the circle by summing all True values in the inside list; then divide the answer by R to obtain a proportion.\n",
    "\n",
    "#Print your answer. This proportion is an estimate of the ratio of the two areas!\n",
    "\n",
    "#What is the proportion of points within the unit circle?\n",
    "import random\n",
    "\n",
    "random.seed(1) # Fixes the see of the random number generator.\n",
    "\n",
    "def rand():\n",
    "   # define `rand` here!\n",
    "    return(random.uniform(-1,1))\n",
    "rand()\n",
    "R=10000\n",
    "h=[]\n",
    "inside=[]\n",
    "for i in range(R):\n",
    "    single_float=[rand(),rand()]\n",
    "    h.append(single_float)\n",
    "    inside.append(in_circle(single_float))\n",
    "print(sum(inside)/R)"
   ]
  },
  {
   "cell_type": "code",
   "execution_count": 0,
   "metadata": {
    "collapsed": false
   },
   "outputs": [
   ],
   "source": [
    "#Exercise 2 Part six\n",
    "#Find the difference between your estimate from part 2e and math.pi / 4. Note: inside and R are defined as in Exercise 2e.\n",
    "print(math.pi/4)"
   ]
  }
 ],
 "metadata": {
  "kernelspec": {
   "display_name": "Python 3 (system-wide)",
   "language": "python",
   "metadata": {
    "cocalc": {
     "description": "Python 3 programming language",
     "priority": 100,
     "url": "https://www.python.org/"
    }
   },
   "name": "python3"
  },
  "language_info": {
   "codemirror_mode": {
    "name": "ipython",
    "version": 3
   },
   "file_extension": ".py",
   "mimetype": "text/x-python",
   "name": "python",
   "nbconvert_exporter": "python",
   "pygments_lexer": "ipython3",
   "version": "3.8.2"
  }
 },
 "nbformat": 4,
 "nbformat_minor": 4
}