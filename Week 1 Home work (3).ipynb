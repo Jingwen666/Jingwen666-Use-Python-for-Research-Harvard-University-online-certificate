{
 "cells": [
  {
   "cell_type": "code",
   "execution_count": 92,
   "metadata": {
    "collapsed": false,
    "scrolled": true
   },
   "outputs": [
    {
     "name": "stdout",
     "output_type": "stream",
     "text": [
      "24.000000000000004\n",
      "[0.997759957910205, 0.8708852298799058, 0.8103274762633248, 0.6592188009990582, 0.6244209374435259, 0.5821344945078507, 0.5554839157042144, 0.5222965296418269, 0.4968284296444778, 0.4847713986040486]\n"
     ]
    }
   ],
   "source": [
    "#Exercise 3 part one\n",
    "#Write a function moving_window_average(x, n_neighbors) that takes a list x and the number of neighbors n_neighbors on either side of a given member of the list to consider.\n",
    "#For each value in x, moving_window_average(x, n_neighbors) computes the average of the value and the values of its neighbors.\n",
    "#moving_window_average should return a list of averaged values that is the same length as the original list.\n",
    "#If there are not enough neighbors (for cases near the edge), substitute the original value for a neighbor for each missing neighbor.\n",
    "#Use your function to find the moving window sum of x=[0,10,5,3,1,5] and n_neighbors=1.\n",
    "def moving_window_average(x, n_neighbors=1):\n",
    "    n = len(x)\n",
    "    width = n_neighbors*2 + 1\n",
    "    x = [x[0]]*n_neighbors + x + [x[-1]]*n_neighbors\n",
    "    # To complete the function,\n",
    "    # return a list of the mean of values from i to i+width for all values i from 0 to n-1.\n",
    "    return([sum(x[i:(i+width)]) / width for i in range(n)])\n",
    "x = [0,10,5,3,1,5]\n",
    "print (sum(moving_window_average(x, 1)))\n",
    "#Exercise 3 part two\n",
    "#Compute and store R=1000 random values from 0-1 as x.\n",
    "#Compute the moving window average for x for values of n_neighbors ranging from 1 to 9 inclusive.\n",
    "#Store x as well as each of these averages as consecutive lists in a list called Y.\n",
    "R = 1000\n",
    "x = [random.uniform(0, 1) for i in range(1000)]\n",
    "Y = [x] + [moving_window_average(x, i) for i in range(1, 10)]\n",
    "#Exercise 3 part three\n",
    "#For each list in Y, calculate and store the range (the maximum minus the minimum) in a new list ranges.\n",
    "#Print your answer. As the window width increases, does the range of each list increase or decrease? Why do you think that is?\n",
    "ranges = [max(x)-min(x) for x in Y]\n",
    "print(ranges)"
   ]
  },
  {
   "cell_type": "code",
   "execution_count": 0,
   "metadata": {
    "collapsed": false
   },
   "outputs": [
   ],
   "source": [
   ]
  },
  {
   "cell_type": "code",
   "execution_count": 0,
   "metadata": {
    "collapsed": false,
    "scrolled": true
   },
   "outputs": [
   ],
   "source": [
   ]
  },
  {
   "cell_type": "code",
   "execution_count": 0,
   "metadata": {
    "collapsed": false
   },
   "outputs": [
   ],
   "source": [
   ]
  },
  {
   "cell_type": "code",
   "execution_count": 0,
   "metadata": {
    "collapsed": false
   },
   "outputs": [
   ],
   "source": [
   ]
  }
 ],
 "metadata": {
  "kernelspec": {
   "display_name": "Python 3 (system-wide)",
   "language": "python",
   "metadata": {
    "cocalc": {
     "description": "Python 3 programming language",
     "priority": 100,
     "url": "https://www.python.org/"
    }
   },
   "name": "python3"
  },
  "language_info": {
   "codemirror_mode": {
    "name": "ipython",
    "version": 3
   },
   "file_extension": ".py",
   "mimetype": "text/x-python",
   "name": "python",
   "nbconvert_exporter": "python",
   "pygments_lexer": "ipython3",
   "version": "3.8.2"
  }
 },
 "nbformat": 4,
 "nbformat_minor": 4
}