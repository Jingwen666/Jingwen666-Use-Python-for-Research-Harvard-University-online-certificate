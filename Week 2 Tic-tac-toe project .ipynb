{
 "cells": [
  {
   "cell_type": "code",
   "execution_count": 0,
   "metadata": {
    "collapsed": false
   },
   "outputs": [
   ],
   "source": [
   ]
  },
  {
   "cell_type": "code",
   "execution_count": 1,
   "metadata": {
    "collapsed": false
   },
   "outputs": [
   ],
   "source": [
    "#Week 2 Homework: Exercises 1-5\n",
    "#Exercise 1 :Write a function create_board() that creates such a board with the value of each cell set to the integer 0\n",
    "\n",
    "import random\n",
    "import numpy as np\n",
    "def create_board():\n",
    "    return np.zeros((3,3), dtype=int)\n",
    "    \n",
    "board=create_board()"
   ]
  },
  {
   "cell_type": "code",
   "execution_count": 2,
   "metadata": {
    "collapsed": false
   },
   "outputs": [
    {
     "data": {
      "text/plain": [
       "array([[0, 0, 0],\n",
       "       [0, 0, 0],\n",
       "       [0, 0, 0]])"
      ]
     },
     "execution_count": 2,
     "metadata": {
     },
     "output_type": "execute_result"
    }
   ],
   "source": [
    "board"
   ]
  },
  {
   "cell_type": "code",
   "execution_count": 3,
   "metadata": {
    "collapsed": false
   },
   "outputs": [
   ],
   "source": [
    "#Exercise 2 : write the function place(board, player, position) Players 1 and 2 will take turns changing values of this array from a 0 to a 1 or 2, indicating the number of the player who places a marker there.\n",
    "\n",
    "#Instructions\n",
    "#Create a function place(board, player, position), where: player is the current player (an integer 1 or 2).\n",
    "#position is a tuple of length 2 specifying a desired location to place their marker.\n",
    "#Your function should only allow the current player to place a marker on the board (change the board position to their number) if that position is empty (zero). Use create_board() to store a board as board, and use place to have Player 1 place a marker on location (0, 0).\n",
    "def place(board, player, position):\n",
    "    if board[position] == 0:\n",
    "        board[position] = player\n",
    "        return board\n",
    "    else:\n",
    "        print(\"Try again, input not valid\")\n",
    "\n"
   ]
  },
  {
   "cell_type": "code",
   "execution_count": 4,
   "metadata": {
    "collapsed": false
   },
   "outputs": [
    {
     "data": {
      "text/plain": [
       "array([[1, 0, 0],\n",
       "       [0, 0, 0],\n",
       "       [0, 0, 0]])"
      ]
     },
     "execution_count": 4,
     "metadata": {
     },
     "output_type": "execute_result"
    }
   ],
   "source": [
    "board = create_board()\n",
    "place(board, 1, (0, 0))"
   ]
  },
  {
   "cell_type": "code",
   "execution_count": 5,
   "metadata": {
    "collapsed": false
   },
   "outputs": [
    {
     "name": "stdout",
     "output_type": "stream",
     "text": [
      "Try again, input not valid\n"
     ]
    }
   ],
   "source": [
    "place(board, 1, (0, 0))"
   ]
  },
  {
   "cell_type": "code",
   "execution_count": 6,
   "metadata": {
    "collapsed": false
   },
   "outputs": [
    {
     "data": {
      "text/plain": [
       "[(0, 1), (0, 2), (1, 0), (1, 1), (1, 2), (2, 0), (2, 1), (2, 2)]"
      ]
     },
     "execution_count": 6,
     "metadata": {
     },
     "output_type": "execute_result"
    }
   ],
   "source": [
    "#In this exercise 3, we will determine which positions are available to either player for placing their marker\n",
    "def possibilities(board):\n",
    "    return [tuple(x) for x in np.argwhere(np.array(board) == 0)]\n",
    "\n",
    "\n",
    "possibilities(board)\n"
   ]
  },
  {
   "cell_type": "code",
   "execution_count": 7,
   "metadata": {
    "collapsed": false
   },
   "outputs": [
    {
     "data": {
      "text/plain": [
       "array([[1, 0, 0],\n",
       "       [2, 0, 0],\n",
       "       [0, 0, 0]])"
      ]
     },
     "execution_count": 7,
     "metadata": {
     },
     "output_type": "execute_result"
    }
   ],
   "source": [
    "#Exerciese 4 we will select an available board position at random and place a marker there. Write a function random_place(board, player) that places a marker for the current player at random among all the available positions (those currently set to 0). Find possible placements with possibilities(board). Select one possible placement at random using random.choice(selection).\n",
    "import random\n",
    "random.seed(1)\n",
    "\n",
    "def random_place(board, player):\n",
    "    random_selection = possibilities(board)\n",
    "    if len(random_selection) > 0:\n",
    "        random_selection = random.choice(random_selection)\n",
    "        place(board, player, random_selection)\n",
    "    return board\n",
    "\n",
    "random_place(board, 2)"
   ]
  },
  {
   "cell_type": "code",
   "execution_count": 8,
   "metadata": {
    "collapsed": false
   },
   "outputs": [
    {
     "name": "stdout",
     "output_type": "stream",
     "text": [
      "[[1 1 0]\n",
      " [0 0 2]\n",
      " [2 1 2]]\n"
     ]
    }
   ],
   "source": [
    "# Exercise 5 We will now have both players place three markers each. A new board is given by the sample code. Call random_place(board, player) to place three pieces each on board for players 1 and 2. Print board to see your result.\n",
    "board = create_board()\n",
    "for x in range(0,3):\n",
    "    for player in [1, 2]:\n",
    "        random_place(board, player)\n",
    "\n",
    "print(board)"
   ]
  },
  {
   "cell_type": "code",
   "execution_count": 9,
   "metadata": {
    "collapsed": false
   },
   "outputs": [
    {
     "data": {
      "text/plain": [
       "False"
      ]
     },
     "execution_count": 9,
     "metadata": {
     },
     "output_type": "execute_result"
    }
   ],
   "source": [
    "# Exercise 6  we will make functions that check whether either player has won the game. Check if row win first\n",
    "def row_win(board, player):\n",
    "    if np.any(np.all(board==player,axis=1)):\n",
    "        return True\n",
    "    else:\n",
    "        return False\n",
    "\n",
    "row_win(board, 1)"
   ]
  },
  {
   "cell_type": "code",
   "execution_count": 10,
   "metadata": {
    "collapsed": false
   },
   "outputs": [
    {
     "data": {
      "text/plain": [
       "False"
      ]
     },
     "execution_count": 10,
     "metadata": {
     },
     "output_type": "execute_result"
    }
   ],
   "source": [
    "#Exercise 7 Check if coloum win\n",
    "def col_win(board,player):\n",
    "    if np.any(np.all(board==player, axis=0)):\n",
    "        return True\n",
    "    else:\n",
    "        return False\n",
    "col_win(board,1)"
   ]
  },
  {
   "cell_type": "code",
   "execution_count": 11,
   "metadata": {
    "collapsed": false
   },
   "outputs": [
    {
     "data": {
      "text/plain": [
       "False"
      ]
     },
     "execution_count": 11,
     "metadata": {
     },
     "output_type": "execute_result"
    }
   ],
   "source": [
    "#Exercise 8 check if diagonal win\n",
    "\n",
    "def diag_win(board, player):\n",
    "    diag1 = np.array([board[0,0], board[1,1], board[2,2]])\n",
    "    diag2 = np.array([board[0,2], board[1,1], board[2,0]])\n",
    "    if np.all(diag1 == player) or np.all(diag2 == player):\n",
    "        return True\n",
    "    else:\n",
    "        return False\n",
    "diag_win(board, 2)"
   ]
  },
  {
   "cell_type": "code",
   "execution_count": 12,
   "metadata": {
    "collapsed": false
   },
   "outputs": [
    {
     "data": {
      "text/plain": [
       "0"
      ]
     },
     "execution_count": 12,
     "metadata": {
     },
     "output_type": "execute_result"
    }
   ],
   "source": [
    "# Exercise 9 evaluate the board\n",
    "\n",
    "def evaluate(board):\n",
    "    winner = 0\n",
    "    for player in [1, 2]:\n",
    "        if row_win(board, player):\n",
    "            winner = player\n",
    "        elif col_win(board, player):\n",
    "            winner = player\n",
    "        elif diag_win(board, player):\n",
    "            winner = player\n",
    "    if np.all(board != 0) and winner == 0:\n",
    "        winner = -1\n",
    "    return winner\n",
    "\n",
    "evaluate(board)"
   ]
  },
  {
   "cell_type": "code",
   "execution_count": 13,
   "metadata": {
    "collapsed": false
   },
   "outputs": [
    {
     "data": {
      "text/plain": [
       "592"
      ]
     },
     "execution_count": 13,
     "metadata": {
     },
     "output_type": "execute_result"
    }
   ],
   "source": [
    "# Exercises 10 \n",
    "def play_game():\n",
    "    board = create_board()\n",
    "    winner = 0\n",
    "    while winner == 0:\n",
    "        for player in [1, 2]:\n",
    "            random_place(board, player)\n",
    "            winner = evaluate(board)\n",
    "            if winner != 0:\n",
    "                break\n",
    "    return winner\n",
    "play_game()\n",
    "results=[play_game() for i in range(1000)]\n",
    "results.count(1)"
   ]
  },
  {
   "cell_type": "code",
   "execution_count": 0,
   "metadata": {
    "collapsed": false
   },
   "outputs": [
   ],
   "source": [
   ]
  },
  {
   "cell_type": "code",
   "execution_count": 0,
   "metadata": {
    "collapsed": false
   },
   "outputs": [
   ],
   "source": [
   ]
  }
 ],
 "metadata": {
  "kernelspec": {
   "display_name": "Python 3 (system-wide)",
   "language": "python",
   "metadata": {
    "cocalc": {
     "description": "Python 3 programming language",
     "priority": 100,
     "url": "https://www.python.org/"
    }
   },
   "name": "python3"
  },
  "language_info": {
   "codemirror_mode": {
    "name": "ipython",
    "version": 3
   },
   "file_extension": ".py",
   "mimetype": "text/x-python",
   "name": "python",
   "nbconvert_exporter": "python",
   "pygments_lexer": "ipython3",
   "version": "3.8.2"
  }
 },
 "nbformat": 4,
 "nbformat_minor": 4
}
