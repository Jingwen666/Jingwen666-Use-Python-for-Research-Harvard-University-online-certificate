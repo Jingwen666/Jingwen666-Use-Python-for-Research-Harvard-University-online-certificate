{
 "cells": [
  {
   "cell_type": "code",
   "execution_count": 2,
   "metadata": {
    "collapsed": false
   },
   "outputs": [
    {
     "name": "stdout",
     "output_type": "stream",
     "text": [
      "abcdefghijklmnopqrstuvwxyzABCDEFGHIJKLMNOPQRSTUVWXYZ\n"
     ]
    }
   ],
   "source": [
    "\n",
    "#Exercise Part one:\n",
    "###Import the string library.\n",
    "###Create a variable alphabet that consists of the lowercase and uppercase letters in the English alphabet.Print alphabet\n",
    "import string\n",
    "alphabet=string.ascii_letters\n",
    "print(alphabet)"
   ]
  },
  {
   "cell_type": "code",
   "execution_count": 3,
   "metadata": {
    "collapsed": false
   },
   "outputs": [
    {
     "name": "stdout",
     "output_type": "stream",
     "text": [
      "{'u': 3, 'c': 1, 'a': 4, 'm': 1, 'l': 3, 'v': 1, 'g': 1, 'd': 1, 'y': 1, 'w': 1, 'f': 1, 'e': 8, 'k': 1, 's': 2, 'h': 2, 'b': 1, 'z': 1, 'o': 1, 'i': 5, 'J': 1, 'q': 1, 'r': 2, 'p': 1, 't': 4, 'x': 1, 'n': 2}\n"
     ]
    }
   ],
   "source": [
    "#Exercise Part two:\n",
    "#Consider the sentence 'Jim quickly realized that the beautiful gowns are expensive'. Create a dictionary count_letters with keys consisting of each unique letter in the sentence and values consisting of the number of times each letter is used in this sentence. Count upper case and lower case letters separately in the dictionary. Print count_letters\n",
    "\n",
    "sentence = 'Jim quickly realized that the beautiful gowns are expensive'\n",
    "count_letters = {}\n",
    "# write your code here!\n",
    "count_letters = dict([[letter, sentence.count(letter)] for letter in set(sentence) if letter in alphabet])\n",
    "print(count_letters)"
   ]
  },
  {
   "cell_type": "code",
   "execution_count": 4,
   "metadata": {
    "collapsed": false
   },
   "outputs": [
   ],
   "source": [
    "#Exercise Part three:\n",
    "#Rewrite your code from 1b to make a function called counter that takes a string input_string and returns a dictionary of letter counts count_letters.Use your function to call counter(sentence).\n",
    "\n",
    "def counter(input_string):\n",
    "    return{letter:input_string.count(letter) for letter in input_string if letter in alphabet}"
   ]
  },
  {
   "cell_type": "code",
   "execution_count": 5,
   "metadata": {
    "collapsed": false
   },
   "outputs": [
   ],
   "source": [
    "#Exercise Part Four:\n",
    "#Abraham Lincoln was a president during the American Civil War. His famous 1863 Gettysburg Address has been stored as address. Use the counter function from 1c to return a dictionary consisting of the count of each letter in this address and save it as address_count.\n",
    "\n",
    "address = \"\"\"Four score and seven years ago our fathers brought forth on this continent, a new nation, \n",
    "conceived in Liberty, and dedicated to the proposition that all men are created equal. Now we are engaged in a \n",
    "great civil war, testing whether that nation, or any nation so conceived and so dedicated, can long endure. \n",
    "We are met on a great battle-field of that war. We have come to dedicate a portion of that field, as a final \n",
    "resting place for those who here gave their lives that that nation might live. It is altogether fitting and proper \n",
    "that we should do this. But, in a larger sense, we can not dedicate -- we can not consecrate -- we can not hallow -- \n",
    "this ground. The brave men, living and dead, who struggled here, have consecrated it, far above our poor power to add \n",
    "or detract. The world will little note, nor long remember what we say here, but it can never forget what they did here. \n",
    "It is for us the living, rather, to be dedicated here to the unfinished work which they who fought here have thus far so \n",
    "nobly advanced. It is rather for us to be here dedicated to the great task remaining before us -- that from these honored \n",
    "dead we take increased devotion to that cause for which they gave the last full measure of devotion -- that we here \n",
    "highly resolve that these dead shall not have died in vain -- that this nation, under God, shall have a new birth of \n",
    "freedom -- and that government of the people, by the people, for the people, shall not perish from the earth.\"\"\"   \n",
    "\n",
    "# Write your code here!\n",
    "address_count=counter(address)\n"
   ]
  },
  {
   "cell_type": "code",
   "execution_count": 7,
   "metadata": {
    "collapsed": false
   },
   "outputs": [
    {
     "name": "stdout",
     "output_type": "stream",
     "text": [
      "e\n"
     ]
    }
   ],
   "source": [
    "#Exercise Part five:\n",
    "#The frequency of each letter in the Gettysburg Address is already stored as address_count. Use this dictionary to find the most common letter in the Gettysburg address.\n",
    "for key, values in address_count.items():\n",
    "  if values == max(address_count.values()):\n",
    "    print(key)"
   ]
  },
  {
   "cell_type": "code",
   "execution_count": 0,
   "metadata": {
    "collapsed": false
   },
   "outputs": [
   ],
   "source": [
   ]
  }
 ],
 "metadata": {
  "kernelspec": {
   "display_name": "Python 3 (system-wide)",
   "language": "python",
   "metadata": {
    "cocalc": {
     "description": "Python 3 programming language",
     "priority": 100,
     "url": "https://www.python.org/"
    }
   },
   "name": "python3"
  },
  "language_info": {
   "codemirror_mode": {
    "name": "ipython",
    "version": 3
   },
   "file_extension": ".py",
   "mimetype": "text/x-python",
   "name": "python",
   "nbconvert_exporter": "python",
   "pygments_lexer": "ipython3",
   "version": "3.8.2"
  }
 },
 "nbformat": 4,
 "nbformat_minor": 4
}